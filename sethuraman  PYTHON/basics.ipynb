{
 "cells": [
  {
   "cell_type": "code",
   "execution_count": null,
   "id": "aed588bd",
   "metadata": {},
   "outputs": [],
   "source": [
    "a=[1,2,3]"
   ]
  },
  {
   "cell_type": "code",
   "execution_count": null,
   "id": "1302706a",
   "metadata": {},
   "outputs": [],
   "source": [
    "a"
   ]
  },
  {
   "cell_type": "code",
   "execution_count": null,
   "id": "ae5e4ce4",
   "metadata": {},
   "outputs": [],
   "source": [
    "a=[1,2,2]"
   ]
  },
  {
   "cell_type": "code",
   "execution_count": null,
   "id": "5aadf8f4",
   "metadata": {},
   "outputs": [],
   "source": [
    "a"
   ]
  },
  {
   "cell_type": "code",
   "execution_count": null,
   "id": "9372ffd8",
   "metadata": {},
   "outputs": [],
   "source": [
    "1a=[1,2,3]"
   ]
  },
  {
   "cell_type": "code",
   "execution_count": null,
   "id": "3b43670b",
   "metadata": {},
   "outputs": [],
   "source": [
    "a1=[1,2,3]"
   ]
  },
  {
   "cell_type": "code",
   "execution_count": null,
   "id": "d70556ed",
   "metadata": {},
   "outputs": [],
   "source": [
    "a1"
   ]
  },
  {
   "cell_type": "code",
   "execution_count": null,
   "id": "ecabfe73",
   "metadata": {},
   "outputs": [],
   "source": [
    "a=[1,2,3]"
   ]
  },
  {
   "cell_type": "code",
   "execution_count": null,
   "id": "6ec3d2a3",
   "metadata": {},
   "outputs": [],
   "source": [
    "a"
   ]
  },
  {
   "cell_type": "code",
   "execution_count": null,
   "id": "6e745d73",
   "metadata": {},
   "outputs": [],
   "source": [
    "A=[1,2,3,4]"
   ]
  },
  {
   "cell_type": "code",
   "execution_count": null,
   "id": "be008ebf",
   "metadata": {},
   "outputs": [],
   "source": [
    "A"
   ]
  },
  {
   "cell_type": "code",
   "execution_count": null,
   "id": "7502919b",
   "metadata": {},
   "outputs": [],
   "source": [
    "type(a)"
   ]
  },
  {
   "cell_type": "code",
   "execution_count": null,
   "id": "8a971231",
   "metadata": {},
   "outputs": [],
   "source": [
    "z=\"sethuraman\""
   ]
  },
  {
   "cell_type": "code",
   "execution_count": null,
   "id": "11d8fd50",
   "metadata": {},
   "outputs": [],
   "source": [
    "z"
   ]
  },
  {
   "cell_type": "code",
   "execution_count": null,
   "id": "619e8009",
   "metadata": {},
   "outputs": [],
   "source": [
    "print(f\"im {z} hero\")"
   ]
  },
  {
   "cell_type": "code",
   "execution_count": null,
   "id": "759b8e83",
   "metadata": {},
   "outputs": [],
   "source": [
    "var1=range(1,10)"
   ]
  },
  {
   "cell_type": "code",
   "execution_count": null,
   "id": "56e2362a",
   "metadata": {},
   "outputs": [],
   "source": []
  },
  {
   "cell_type": "code",
   "execution_count": null,
   "id": "bc68edfd",
   "metadata": {},
   "outputs": [],
   "source": [
    "print(var1)"
   ]
  },
  {
   "cell_type": "code",
   "execution_count": null,
   "id": "78603a3b",
   "metadata": {},
   "outputs": [],
   "source": [
    "print(list(var1))"
   ]
  },
  {
   "cell_type": "code",
   "execution_count": null,
   "id": "d7e2ad2f",
   "metadata": {},
   "outputs": [],
   "source": [
    "var2"
   ]
  },
  {
   "cell_type": "code",
   "execution_count": null,
   "id": "31580d84",
   "metadata": {},
   "outputs": [],
   "source": [
    "var2"
   ]
  },
  {
   "cell_type": "code",
   "execution_count": null,
   "id": "595239f9",
   "metadata": {},
   "outputs": [],
   "source": [
    "var2"
   ]
  },
  {
   "cell_type": "code",
   "execution_count": null,
   "id": "3fb4e5a7",
   "metadata": {},
   "outputs": [],
   "source": [
    "var2[1]"
   ]
  },
  {
   "cell_type": "code",
   "execution_count": null,
   "id": "4c1ef993",
   "metadata": {},
   "outputs": [],
   "source": [
    "var2[3]"
   ]
  },
  {
   "cell_type": "code",
   "execution_count": null,
   "id": "791182cb",
   "metadata": {},
   "outputs": [],
   "source": [
    "var2[\"kick\"]"
   ]
  },
  {
   "cell_type": "code",
   "execution_count": null,
   "id": "e0e40807",
   "metadata": {},
   "outputs": [],
   "source": [
    "var2={\"sethu\":\"tamil\",\"yusuf\":\"riyas\",\"kick\":\"tamil\"}"
   ]
  },
  {
   "cell_type": "code",
   "execution_count": null,
   "id": "1ed940df",
   "metadata": {},
   "outputs": [],
   "source": [
    "var2[\"kick\"]"
   ]
  },
  {
   "cell_type": "code",
   "execution_count": null,
   "id": "64301360",
   "metadata": {},
   "outputs": [],
   "source": [
    "var2[\"kick\"]=90"
   ]
  },
  {
   "cell_type": "code",
   "execution_count": null,
   "id": "9812abb4",
   "metadata": {},
   "outputs": [],
   "source": [
    "var2"
   ]
  },
  {
   "cell_type": "code",
   "execution_count": null,
   "id": "064832b7",
   "metadata": {},
   "outputs": [],
   "source": [
    "var3={\"sethu\",54,1+3j}"
   ]
  },
  {
   "cell_type": "code",
   "execution_count": null,
   "id": "c5a08fcd",
   "metadata": {},
   "outputs": [],
   "source": [
    "type(var3)"
   ]
  },
  {
   "cell_type": "code",
   "execution_count": null,
   "id": "c77da522",
   "metadata": {},
   "outputs": [],
   "source": [
    "var3"
   ]
  },
  {
   "cell_type": "markdown",
   "id": "f8cec2a7",
   "metadata": {},
   "source": [
    "clock"
   ]
  },
  {
   "cell_type": "code",
   "execution_count": null,
   "id": "92e89cc6",
   "metadata": {},
   "outputs": [],
   "source": [
    "\n"
   ]
  },
  {
   "cell_type": "code",
   "execution_count": null,
   "id": "95e346df",
   "metadata": {},
   "outputs": [],
   "source": []
  },
  {
   "cell_type": "code",
   "execution_count": null,
   "id": "79493af3",
   "metadata": {},
   "outputs": [],
   "source": []
  },
  {
   "cell_type": "code",
   "execution_count": null,
   "id": "df630a7a",
   "metadata": {},
   "outputs": [],
   "source": []
  },
  {
   "cell_type": "code",
   "execution_count": null,
   "id": "85df9084",
   "metadata": {},
   "outputs": [],
   "source": [
    "input()"
   ]
  },
  {
   "cell_type": "code",
   "execution_count": null,
   "id": "e2ae7bd5",
   "metadata": {},
   "outputs": [],
   "source": [
    "input()"
   ]
  },
  {
   "cell_type": "markdown",
   "id": "6cd3db10",
   "metadata": {},
   "source": [
    "clock"
   ]
  },
  {
   "cell_type": "code",
   "execution_count": null,
   "id": "6a1b978d",
   "metadata": {},
   "outputs": [],
   "source": [
    "timenow=input(\"enter the time\")\n",
    "notif={1:\"morning\",2:\"evening\"}\n",
    "if int(timenow)<12:\n",
    "    print(notif[1])\n",
    "elif int(timenow)>12:\n",
    "    print(notif[2])\n",
    "     "
   ]
  },
  {
   "cell_type": "code",
   "execution_count": null,
   "id": "343a9b5f",
   "metadata": {},
   "outputs": [],
   "source": [
    "cost_per_km=10\n",
    "km=input(\"enter the distance\")\n",
    "stopname={1:\"chennai\",4:\"salem\"}\n",
    "for distance in range(1,5):\n",
    "    if(distance)==2:\n",
    "            totalcost=cost_per_km*2\n",
    "            print(f\"your expenditure for {distance}km is {totalcost} and stop name is {stopname[1]}\")\n",
    "    if(distance)==3:\n",
    "            totalcost=cost_per_km*3\n",
    "            print(f\"your expenditure for {distance}km is {totalcost} and stop name is {stopname[4]}\")\n",
    "        \n"
   ]
  },
  {
   "cell_type": "code",
   "execution_count": null,
   "id": "ba669169",
   "metadata": {},
   "outputs": [],
   "source": []
  },
  {
   "cell_type": "code",
   "execution_count": null,
   "id": "a63ce697",
   "metadata": {},
   "outputs": [],
   "source": [
    "ticketcount=int(input(\"entertotal capacity\"))\n",
    "counter=1\n",
    "while counter<=ticketcount/2:\n",
    "    print(f\"cant begin the travel\")\n",
    "    counter+=1\n",
    "print(f\"lets begin the voyage\")"
   ]
  },
  {
   "cell_type": "code",
   "execution_count": null,
   "id": "48df6331",
   "metadata": {},
   "outputs": [],
   "source": []
  },
  {
   "cell_type": "code",
   "execution_count": null,
   "id": "5ceee0af",
   "metadata": {},
   "outputs": [],
   "source": []
  },
  {
   "cell_type": "code",
   "execution_count": null,
   "id": "12d7aed5",
   "metadata": {},
   "outputs": [],
   "source": []
  },
  {
   "cell_type": "code",
   "execution_count": null,
   "id": "4a9484b1",
   "metadata": {},
   "outputs": [],
   "source": []
  },
  {
   "cell_type": "code",
   "execution_count": 5,
   "id": "32291d09",
   "metadata": {},
   "outputs": [
    {
     "ename": "SyntaxError",
     "evalue": "invalid syntax (1891292482.py, line 1)",
     "output_type": "error",
     "traceback": [
      "\u001b[1;36m  Cell \u001b[1;32mIn [5], line 1\u001b[1;36m\u001b[0m\n\u001b[1;33m    fibo()fibo()\u001b[0m\n\u001b[1;37m          ^\u001b[0m\n\u001b[1;31mSyntaxError\u001b[0m\u001b[1;31m:\u001b[0m invalid syntax\n"
     ]
    }
   ],
   "source": [
    "fibo()"
   ]
  },
  {
   "cell_type": "code",
   "execution_count": 8,
   "id": "9c18a2be",
   "metadata": {},
   "outputs": [],
   "source": [
    "def fibo(inp):\n",
    "\n",
    "    inp=int(input(\"enter the limit\"))\n",
    "    a=int(input(\"enter the first number\"))   \n",
    "    b=int(input(\"enter the second number\"))\n",
    "    count=0\n",
    "    while count<=inp:\n",
    "        \n",
    "        c=a+b\n",
    "        print(c)\n",
    "        count+=1\n",
    "        a=b\n",
    "        b=c\n",
    "        \n",
    "        \n"
   ]
  },
  {
   "cell_type": "code",
   "execution_count": 9,
   "id": "49cca8e0",
   "metadata": {},
   "outputs": [
    {
     "name": "stdout",
     "output_type": "stream",
     "text": [
      "enter the limit5\n",
      "enter the first number23\n",
      "enter the second number23\n",
      "46\n",
      "69\n",
      "115\n",
      "184\n",
      "299\n",
      "483\n"
     ]
    }
   ],
   "source": [
    "fibo(10)"
   ]
  }
 ],
 "metadata": {
  "kernelspec": {
   "display_name": "Python 3 (ipykernel)",
   "language": "python",
   "name": "python3"
  },
  "language_info": {
   "codemirror_mode": {
    "name": "ipython",
    "version": 3
   },
   "file_extension": ".py",
   "mimetype": "text/x-python",
   "name": "python",
   "nbconvert_exporter": "python",
   "pygments_lexer": "ipython3",
   "version": "3.10.8"
  }
 },
 "nbformat": 4,
 "nbformat_minor": 5
}
